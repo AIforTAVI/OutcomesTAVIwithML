{
 "cells": [
  {
   "cell_type": "code",
   "execution_count": 1,
   "metadata": {},
   "outputs": [],
   "source": [
    "import numpy as np\n",
    "import pandas as pd\n",
    "import sklearn\n",
    "\n",
    "from scipy import interp\n",
    "import matplotlib.pyplot as plt\n",
    "from numpy import ravel\n",
    "\n",
    "from sklearn import svm, datasets\n",
    "from sklearn.metrics import roc_curve, auc, roc_auc_score\n",
    "from sklearn.model_selection import StratifiedKFold\n",
    "\n",
    "from sklearn.model_selection import GridSearchCV, cross_val_score, KFold\n",
    "from sklearn.preprocessing import StandardScaler\n",
    "from sklearn.impute import SimpleImputer\n",
    "\n",
    "from sklearn.neural_network import MLPClassifier\n",
    "import itertools\n",
    "\n",
    "import sklearn.metrics as metrics\n",
    "\n",
    "import matplotlib.pyplot as plt\n",
    "\n",
    "import random\n",
    "\n",
    "import scipy\n",
    "\n",
    "from sklearn.preprocessing import StandardScaler  \n",
    "\n",
    "\n",
    "# Set seed\n",
    "random.seed(2020)\n",
    "np.random.seed(2020)"
   ]
  },
  {
   "cell_type": "code",
   "execution_count": 2,
   "metadata": {},
   "outputs": [],
   "source": [
    "from math import sqrt\n",
    "\n",
    "def wilson_ci( pi, n, alpha ):\n",
    "  a = 2 * n * pi + scipy.stats.norm.ppf(1 - alpha/2)**2\n",
    "  b = scipy.stats.norm.ppf(1 - alpha/2) * sqrt(scipy.stats.norm.ppf(1 - alpha/2)**2 + 4 * n * pi * (1 - pi))\n",
    "  d = 2 * (n + scipy.stats.norm.ppf(1 - alpha/2)**2)\n",
    "  \n",
    "  res  = round((a - b)/d, 3)\n",
    "  res2 = round((a + b) / d, 3)\n",
    "  \n",
    "  return [res, res2]"
   ]
  },
  {
   "cell_type": "code",
   "execution_count": 3,
   "metadata": {},
   "outputs": [
    {
     "name": "stdout",
     "output_type": "stream",
     "text": [
      "(451, 87)\n",
      "(451,)\n",
      "(451, 83)\n"
     ]
    }
   ],
   "source": [
    "A = pd.read_excel(\"mortality_all.xlsx\")\n",
    "print(A.shape)\n",
    "\n",
    "y = A[\"Mortality\"]\n",
    "y = y.ravel()\n",
    "print(y.shape)\n",
    "\n",
    "\n",
    "sts = A[\"STS\"]\n",
    "sts = np.array(sts, dtype = float)\n",
    "\n",
    "sts_2 = A[\"STSACC\"]\n",
    "sts_2 = np.array(sts_2, dtype = float)\n",
    "\n",
    "X = A\n",
    "del X[\"Mortality\"]\n",
    "del X[\"ID\"]\n",
    "del X[\"STS\"]\n",
    "del X[\"STSACC\"]\n",
    "X = np.array(X, dtype = float)\n",
    "print(X.shape)"
   ]
  },
  {
   "cell_type": "code",
   "execution_count": 4,
   "metadata": {},
   "outputs": [],
   "source": [
    "imp = SimpleImputer(missing_values=np.nan, strategy='mean')\n",
    "X = imp.fit_transform(X)\n",
    "X = pd.DataFrame(data = X) # Create data frame\n",
    "\n",
    "feature_scaler = StandardScaler()  \n",
    "X = feature_scaler.fit_transform(X)"
   ]
  },
  {
   "cell_type": "code",
   "execution_count": 5,
   "metadata": {},
   "outputs": [
    {
     "name": "stdout",
     "output_type": "stream",
     "text": [
      "(451, 51)\n"
     ]
    }
   ],
   "source": [
    "X1 = pd.read_excel(\"Baseline August (30 features + ID).xlsx\")\n",
    "X1 = np.array(X1, dtype = float)\n",
    "X1 = imp.fit_transform(X1)\n",
    "X1 = pd.DataFrame(data = X1) # Create data frame\n",
    "X1 = feature_scaler.fit_transform(X1)  \n",
    "print(X1.shape)"
   ]
  },
  {
   "cell_type": "code",
   "execution_count": 6,
   "metadata": {},
   "outputs": [],
   "source": [
    "spez = 0.9\n",
    "pos = len(y[np.where(y==1)])\n",
    "neg = len(y) - pos"
   ]
  },
  {
   "cell_type": "code",
   "execution_count": 7,
   "metadata": {},
   "outputs": [
    {
     "name": "stdout",
     "output_type": "stream",
     "text": [
      "AUC: 0.6365258215962442\n",
      "Confidence Interval: [0.591, 0.68]\n"
     ]
    }
   ],
   "source": [
    "fpr, tpr, thresholds = metrics.roc_curve(y, ravel(sts/100))\n",
    "auc_sts = auc(fpr, tpr)\n",
    "\n",
    "print('AUC:', auc_sts)\n",
    "print('Confidence Interval:', wilson_ci (auc_sts, len(y), 0.05))"
   ]
  },
  {
   "cell_type": "code",
   "execution_count": 8,
   "metadata": {},
   "outputs": [
    {
     "name": "stdout",
     "output_type": "stream",
     "text": [
      "Accuracy: 0.8545454545454546\n",
      "Sensitivity: 0.08\n"
     ]
    }
   ],
   "source": [
    "sens_sts = tpr[np.argmin(fpr < 1-spez)]\n",
    "acc_sts  = (sens_sts * pos + spez * neg) / len(y)\n",
    "print('Accuracy:', acc_sts)\n",
    "print('Sensitivity:', sens_sts)"
   ]
  },
  {
   "cell_type": "code",
   "execution_count": 9,
   "metadata": {},
   "outputs": [
    {
     "name": "stdout",
     "output_type": "stream",
     "text": [
      "AUC: 0.6501877934272301\n",
      "Confidence Interval: [0.605, 0.693]\n"
     ]
    }
   ],
   "source": [
    "fpr, tpr, thresholds = metrics.roc_curve(y, ravel(sts_2/100))\n",
    "auc_sts_2 = auc(fpr, tpr)\n",
    "\n",
    "print('AUC:', auc_sts_2)\n",
    "print('Confidence Interval:', wilson_ci (auc_sts_2, len(y), 0.05))"
   ]
  },
  {
   "cell_type": "code",
   "execution_count": 10,
   "metadata": {},
   "outputs": [
    {
     "name": "stdout",
     "output_type": "stream",
     "text": [
      "Accuracy: 0.858980044345898\n",
      "Sensitivity: 0.16\n"
     ]
    }
   ],
   "source": [
    "sens_sts2 = tpr[np.argmin(fpr < 1-spez)]\n",
    "acc_sts2  = (sens_sts2 * pos + spez * neg) / len(y)\n",
    "print('Accuracy:', acc_sts2)\n",
    "print('Sensitivity:', sens_sts2)"
   ]
  },
  {
   "cell_type": "code",
   "execution_count": 11,
   "metadata": {},
   "outputs": [
    {
     "data": {
      "image/png": "[encoded data removed]",
      "text/plain": [
       "<Figure size 432x288 with 1 Axes>"
      ]
     },
     "metadata": {
      "needs_background": "light"
     },
     "output_type": "display_data"
    }
   ],
   "source": [
    "fpr, tpr, threshold = metrics.roc_curve(y, sts)\n",
    "roc_auc = metrics.auc(fpr, tpr)\n",
    "std_auc = np.std(roc_auc)\n",
    "plt.plot(fpr, tpr, color='indigo', lw=2, label = 'STS Score: AUC = %0.2f' % roc_auc)\n",
    "\n",
    "fpr, tpr, threshold = metrics.roc_curve(y, sts_2)\n",
    "roc_auc = metrics.auc(fpr, tpr)\n",
    "std_auc = np.std(roc_auc)\n",
    "plt.plot(fpr, tpr, color='violet', lw=2, label = 'STS/ACC TAVR Score: AUC = %0.2f' % roc_auc)\n",
    "\n",
    "plt.legend(loc = 'lower right')\n",
    "plt.title('Receiver Operating Characteristic for the STS scores')\n",
    "plt.plot([0, 1], [0, 1], linestyle='--', lw=2, color='grey',\n",
    "         label='Chance', alpha=.8)\n",
    "plt.xlim([0, 1])\n",
    "plt.ylim([0, 1])\n",
    "plt.ylabel('True Positive Rate')\n",
    "plt.xlabel('False Positive Rate')\n",
    "plt.show()"
   ]
  },
  {
   "cell_type": "code",
   "execution_count": 12,
   "metadata": {},
   "outputs": [],
   "source": [
    "inner_cv = KFold(n_splits=4, shuffle=True, random_state=4)"
   ]
  },
  {
   "cell_type": "code",
   "execution_count": 13,
   "metadata": {},
   "outputs": [],
   "source": [
    "outer_cv = StratifiedKFold(n_splits = 5, shuffle = True, random_state=4)\n",
    "cv = outer_cv"
   ]
  },
  {
   "cell_type": "code",
   "execution_count": 14,
   "metadata": {},
   "outputs": [],
   "source": [
    "from sklearn.ensemble import RandomForestClassifier\n",
    "rfc = RandomForestClassifier(n_jobs=-1 ,max_features= 'sqrt' ,n_estimators=50, \n",
    "                             oob_score = True, class_weight = {1: 18}) \n",
    "\n",
    "grid_param_rf = {\n",
    "    'n_estimators': [200, 700],\n",
    "    'max_features': ['auto', 'sqrt', 'log2']\n",
    "}\n",
    "\n",
    "classifier_rf = GridSearchCV(estimator=rfc, param_grid=grid_param_rf, cv=inner_cv, scoring='roc_auc')"
   ]
  },
  {
   "cell_type": "code",
   "execution_count": 15,
   "metadata": {},
   "outputs": [],
   "source": [
    "probas_rf  = ravel(np.zeros(len(y)))\n",
    "probas_rfb = ravel(np.zeros(len(y)))\n",
    "\n",
    "for train, test in cv.split(X, y):\n",
    "    fit = classifier_rf.fit(X[train], y[train])\n",
    "    probs = fit.predict_proba(X[test])\n",
    "    probas_rf[test] = probs[:, 1]\n",
    "    fit   = classifier_rf.fit(X1[train], y[train])\n",
    "    probs = fit.predict_proba(X1[test])\n",
    "    probas_rfb[test] = probs[:, 1]\n",
    "\n",
    "    \n",
    "fpr_rf, tpr_rf, thresholds_rf = roc_curve(y, probas_rf)\n",
    "auc_rf = auc(fpr_rf, tpr_rf)\n",
    "\n",
    "fpr_rfb, tpr_rfb, thresholds_rfb = roc_curve(y, probas_rfb)\n",
    "auc_rfb = auc(fpr_rfb, tpr_rfb)"
   ]
  },
  {
   "cell_type": "code",
   "execution_count": 16,
   "metadata": {},
   "outputs": [
    {
     "data": {
      "image/png": "[encoded data removed]",
      "text/plain": [
       "<Figure size 432x288 with 1 Axes>"
      ]
     },
     "metadata": {
      "needs_background": "light"
     },
     "output_type": "display_data"
    }
   ],
   "source": [
    "plt.plot(fpr_rf, tpr_rf, lw=3, alpha=1, color='forestgreen',\n",
    "         label='All Features (AUC = %0.2f)' % auc_rf)\n",
    "plt.plot(fpr_rfb, tpr_rfb, lw=3, alpha=1, color='lime',\n",
    "         label='Baseline Features (AUC = %0.2f)' % auc_rfb)\n",
    "plt.plot([0, 1], [0, 1], linestyle='--', lw=2, color='grey',\n",
    "         alpha=.8)\n",
    "\n",
    "# Define limits and labels\n",
    "plt.xlim([-0.05, 1.05])\n",
    "plt.ylim([-0.05, 1.05])\n",
    "plt.xlabel('1 - Specificity')\n",
    "plt.ylabel('Sensitivity')\n",
    "plt.title('Receiver operating characteristic')\n",
    "plt.legend(loc=\"lower right\")\n",
    "plt.title(\"Random Forest\")\n",
    "plt.show()"
   ]
  },
  {
   "cell_type": "code",
   "execution_count": 17,
   "metadata": {},
   "outputs": [
    {
     "name": "stdout",
     "output_type": "stream",
     "text": [
      "AUC: 0.9659154929577465\n",
      "Confidence Interval: [0.945, 0.979]\n",
      "Accuracy: 0.9033259423503327\n",
      "Sensitivity: 0.96\n",
      "Specificity: 0.9\n"
     ]
    }
   ],
   "source": [
    "sens_rf = tpr_rf[np.argmin(fpr_rf < 1 - spez)]\n",
    "acc_rf  = (sens_rf * pos + spez * neg) / len(y)\n",
    "print('AUC:', auc_rf)\n",
    "print('Confidence Interval:', wilson_ci (auc_rf, len(y), 0.05))\n",
    "print('Accuracy:', acc_rf)\n",
    "print('Sensitivity:', sens_rf)\n",
    "print('Specificity:', spez)"
   ]
  },
  {
   "cell_type": "code",
   "execution_count": 18,
   "metadata": {},
   "outputs": [
    {
     "name": "stdout",
     "output_type": "stream",
     "text": [
      "AUC: 0.8069014084507042\n",
      "Confidence Interval: [0.768, 0.841]\n",
      "Accuracy: 0.8722838137472284\n",
      "Sensitivity: 0.4\n",
      "Specificity: 0.9\n"
     ]
    }
   ],
   "source": [
    "sens_rfb = tpr_rfb[np.argmin(fpr_rfb < 1 - spez)]\n",
    "acc_rfb  = (sens_rfb * pos + spez * neg) / len(y)\n",
    "print('AUC:', auc_rfb)\n",
    "print('Confidence Interval:', wilson_ci (auc_rfb, len(y), 0.05))\n",
    "print('Accuracy:', acc_rfb)\n",
    "print('Sensitivity:', sens_rfb)\n",
    "print('Specificity:', spez)"
   ]
  },
  {
   "cell_type": "code",
   "execution_count": 19,
   "metadata": {},
   "outputs": [],
   "source": [
    "NeuralNetwork = MLPClassifier(solver='sgd', alpha=1e-5, max_iter = 10000,\n",
    "                    hidden_layer_sizes=(5, 2), random_state=1)\n",
    "grid_param_nn = {  \n",
    "    'activation': ['logistic','tanh','relu'],\n",
    "    'learning_rate': ['constant','invscaling'],\n",
    "    'hidden_layer_sizes':[x for x in itertools.product((3,4,5),repeat=3)]\n",
    "}\n",
    "\n",
    "classifier_nn = GridSearchCV(estimator=NeuralNetwork, param_grid=grid_param_nn, cv=inner_cv, scoring='roc_auc')"
   ]
  },
  {
   "cell_type": "code",
   "execution_count": 20,
   "metadata": {},
   "outputs": [],
   "source": [
    "probas_nn  = ravel(np.zeros(len(y)))\n",
    "probas_nnb = ravel(np.zeros(len(y)))\n",
    "\n",
    "for train, test in cv.split(X, y):\n",
    "    fit = classifier_nn.fit(X[train], y[train])\n",
    "    probs = fit.predict_proba(X[test])\n",
    "    probas_nn[test] = probs[:, 1]\n",
    "    fit = classifier_nn.fit(X1[train], y[train])\n",
    "    probs = fit.predict_proba(X1[test])\n",
    "    probas_nnb[test] = probs[:, 1]\n",
    "\n",
    "    \n",
    "fpr_nn, tpr_nn, thresholds_nn = roc_curve(y, probas_nn)\n",
    "auc_nn = auc(fpr_nn, tpr_nn)\n",
    "\n",
    "fpr_nnb, tpr_nnb, thresholds_nnb = roc_curve(y, probas_nnb)\n",
    "auc_nnb = auc(fpr_nnb, tpr_nnb)"
   ]
  },
  {
   "cell_type": "code",
   "execution_count": 21,
   "metadata": {},
   "outputs": [
    {
     "data": {
      "image/png": "[encoded data removed]",
      "text/plain": [
       "<Figure size 432x288 with 1 Axes>"
      ]
     },
     "metadata": {
      "needs_background": "light"
     },
     "output_type": "display_data"
    }
   ],
   "source": [
    "plt.plot(fpr_nn, tpr_nn, lw=3, alpha=1, color='darkcyan',\n",
    "         label='All Features (AUC = %0.2f)' % auc_nn)\n",
    "plt.plot(fpr_nnb, tpr_nnb, lw=3, alpha=1, color='turquoise',\n",
    "         label='Baseline Features (AUC = %0.2f)' % auc_nnb)\n",
    "plt.plot([0, 1], [0, 1], linestyle='--', lw=2, color='grey',\n",
    "         alpha=.8)\n",
    "\n",
    "# Define limits and labels\n",
    "plt.xlim([-0.05, 1.05])\n",
    "plt.ylim([-0.05, 1.05])\n",
    "plt.xlabel('1 - Specificity')\n",
    "plt.ylabel('Sensitivity')\n",
    "plt.title('Receiver operating characteristic')\n",
    "plt.legend(loc=\"lower right\")\n",
    "plt.title(\"Artificial Neural Network\")\n",
    "plt.show()\n"
   ]
  },
  {
   "cell_type": "code",
   "execution_count": 22,
   "metadata": {},
   "outputs": [
    {
     "name": "stdout",
     "output_type": "stream",
     "text": [
      "AUC: 0.9580281690140845\n",
      "Confidence Interval: [0.935, 0.973]\n",
      "Accuracy: 0.901108647450111\n",
      "Sensitivity: 0.92\n",
      "Specificity: 0.9\n"
     ]
    }
   ],
   "source": [
    "sens_nn = tpr_nn[np.argmin(fpr_nn < 1 - spez)]\n",
    "acc_nn  = (sens_nn * pos + spez * neg) / len(y)\n",
    "print('AUC:', auc_nn)\n",
    "print('Confidence Interval:', wilson_ci (auc_nn, len(y), 0.05))\n",
    "print('Accuracy:', acc_nn)\n",
    "print('Sensitivity:', sens_nn)\n",
    "print('Specificity:', spez)"
   ]
  },
  {
   "cell_type": "code",
   "execution_count": 23,
   "metadata": {},
   "outputs": [
    {
     "name": "stdout",
     "output_type": "stream",
     "text": [
      "AUC: 0.7167136150234742\n",
      "Confidence Interval: [0.673, 0.756]\n",
      "Accuracy: 0.8722838137472284\n",
      "Sensitivity: 0.4\n",
      "Specificity: 0.9\n"
     ]
    }
   ],
   "source": [
    "sens_nnb = tpr_nnb[np.argmin(fpr_nnb < 1 - spez)]\n",
    "acc_nnb  = (sens_nnb * pos + spez * neg) / len(y)\n",
    "print('AUC:', auc_nnb)\n",
    "print('Confidence Interval:', wilson_ci (auc_nnb, len(y), 0.05))\n",
    "print('Accuracy:', acc_nnb)\n",
    "print('Sensitivity:', sens_nnb)\n",
    "print('Specificity:', spez)"
   ]
  },
  {
   "cell_type": "code",
   "execution_count": 24,
   "metadata": {},
   "outputs": [],
   "source": [
    "from sklearn import svm, datasets\n",
    "svc = svm.SVC(probability = True, class_weight ={1: 18})\n",
    "\n",
    "grid_param_svm = {'kernel':('linear', 'rbf'), 'C':[1, 10], 'gamma':[.0001, .001, .01]}\n",
    "\n",
    "classifier_svm = GridSearchCV(estimator=svc, param_grid=grid_param_svm, cv=inner_cv, scoring='roc_auc')"
   ]
  },
  {
   "cell_type": "code",
   "execution_count": 25,
   "metadata": {},
   "outputs": [],
   "source": [
    "probas_svm  = ravel(np.zeros(len(y)))\n",
    "probas_svmb = ravel(np.zeros(len(y)))\n",
    "\n",
    "for train, test in cv.split(X, y):\n",
    "    fit = classifier_svm.fit(X[train], y[train])\n",
    "    probs = fit.predict_proba(X[test])\n",
    "    probas_svm[test] = probs[:, 1]\n",
    "    fit = classifier_svm.fit(X1[train], y[train])\n",
    "    probs = fit.predict_proba(X1[test])\n",
    "    probas_svmb[test] = probs[:, 1]\n",
    "\n",
    "    \n",
    "fpr_svm, tpr_svm, thresholds_svm = roc_curve(y, probas_svm)\n",
    "auc_svm = auc(fpr_svm, tpr_svm)\n",
    "\n",
    "fpr_svmb, tpr_svmb, thresholds_svmb = roc_curve(y, probas_svmb)\n",
    "auc_svmb = auc(fpr_svmb, tpr_svmb)"
   ]
  },
  {
   "cell_type": "code",
   "execution_count": 26,
   "metadata": {},
   "outputs": [
    {
     "data": {
      "image/png": "[encoded data removed]",
      "text/plain": [
       "<Figure size 432x288 with 1 Axes>"
      ]
     },
     "metadata": {
      "needs_background": "light"
     },
     "output_type": "display_data"
    }
   ],
   "source": [
    "plt.plot(fpr_svm, tpr_svm, lw=3, alpha=1, color='darkorange',\n",
    "         label='All Features (AUC = %0.2f)' % auc_svm)\n",
    "plt.plot(fpr_svmb, tpr_svmb, lw=3, alpha=1, color='moccasin',\n",
    "         label='Baseline Features (AUC = %0.2f)' % auc_svmb)\n",
    "plt.plot([0, 1], [0, 1], linestyle='--', lw=2, color='grey',\n",
    "         alpha=.8)\n",
    "\n",
    "# Define limits and labels\n",
    "plt.xlim([-0.05, 1.05])\n",
    "plt.ylim([-0.05, 1.05])\n",
    "plt.xlabel('1 - Specificity')\n",
    "plt.ylabel('Sensitivity')\n",
    "plt.title('Receiver operating characteristic')\n",
    "plt.legend(loc=\"lower right\")\n",
    "plt.title(\"Support Vector Machine\")\n",
    "plt.show()"
   ]
  },
  {
   "cell_type": "code",
   "execution_count": 27,
   "metadata": {},
   "outputs": [
    {
     "name": "stdout",
     "output_type": "stream",
     "text": [
      "AUC: 0.9388732394366198\n",
      "Confidence Interval: [0.913, 0.957]\n",
      "Accuracy: 0.892239467849224\n",
      "Sensitivity: 0.76\n",
      "Specificity: 0.9\n"
     ]
    }
   ],
   "source": [
    "sens_svm = tpr_svm[np.argmin(fpr_svm < 1 - spez)]\n",
    "acc_svm  = (sens_svm * pos + spez * neg) / len(y)\n",
    "print('AUC:', auc_svm)\n",
    "print('Confidence Interval:', wilson_ci (auc_svm, len(y), 0.05))\n",
    "print('Accuracy:', acc_svm)\n",
    "print('Sensitivity:', sens_svm)\n",
    "print('Specificity:', spez)"
   ]
  },
  {
   "cell_type": "code",
   "execution_count": 28,
   "metadata": {},
   "outputs": [
    {
     "name": "stdout",
     "output_type": "stream",
     "text": [
      "AUC: 0.8182159624413146\n",
      "Confidence Interval: [0.78, 0.851]\n",
      "Accuracy: 0.8745011086474502\n",
      "Sensitivity: 0.44\n",
      "Specificity: 0.9\n"
     ]
    }
   ],
   "source": [
    "sens_svmb = tpr_svmb[np.argmin(fpr_svmb < 1 - spez)]\n",
    "acc_svmb  = (sens_svmb * pos + spez * neg) / len(y)\n",
    "print('AUC:', auc_svmb)\n",
    "print('Confidence Interval:', wilson_ci (auc_svmb, len(y), 0.05))\n",
    "print('Accuracy:', acc_svmb)\n",
    "print('Sensitivity:', sens_svmb)\n",
    "print('Specificity:', spez)"
   ]
  },
  {
   "cell_type": "code",
   "execution_count": 29,
   "metadata": {},
   "outputs": [],
   "source": [
    "import scipy.stats\n",
    "\n",
    "# AUC comparison adapted from\n",
    "# https://github.com/Netflix/vmaf/\n",
    "def compute_midrank(x):\n",
    "    J = np.argsort(x)\n",
    "    Z = x[J]\n",
    "    N = len(x)\n",
    "    T = np.zeros(N, dtype=np.float)\n",
    "    i = 0\n",
    "    while i < N:\n",
    "        j = i\n",
    "        while j < N and Z[j] == Z[i]:\n",
    "            j += 1\n",
    "        T[i:j] = 0.5*(i + j - 1)\n",
    "        i = j\n",
    "    T2 = np.empty(N, dtype=np.float)\n",
    "    # Note(kazeevn) +1 is due to Python using 0-based indexing\n",
    "    # instead of 1-based in the AUC formula in the paper\n",
    "    T2[J] = T + 1\n",
    "    return T2\n",
    "\n",
    "\n",
    "\n",
    "def fastDeLong(predictions_sorted_transposed, label_1_count, ordered_sample_weight):\n",
    "    # Short variables are named as they are in the paper\n",
    "    m = label_1_count\n",
    "    n = predictions_sorted_transposed.shape[1] - m\n",
    "    positive_examples = predictions_sorted_transposed[:, :m]\n",
    "    negative_examples = predictions_sorted_transposed[:, m:]\n",
    "    k = predictions_sorted_transposed.shape[0]\n",
    "\n",
    "    tx = np.empty([k, m], dtype=np.float)\n",
    "    ty = np.empty([k, n], dtype=np.float)\n",
    "    tz = np.empty([k, m + n], dtype=np.float)\n",
    "    for r in range(k):\n",
    "        tx[r, :] = compute_midrank(positive_examples[r, :])\n",
    "        ty[r, :] = compute_midrank(negative_examples[r, :])\n",
    "        tz[r, :] = compute_midrank(predictions_sorted_transposed[r, :])\n",
    "    aucs = tz[:, :m].sum(axis=1) / m / n - float(m + 1.0) / 2.0 / n\n",
    "    v01 = (tz[:, :m] - tx[:, :]) / n\n",
    "    v10 = 1.0 - (tz[:, m:] - ty[:, :]) / m\n",
    "    sx = np.cov(v01)\n",
    "    sy = np.cov(v10)\n",
    "    delongcov = sx / m + sy / n\n",
    "    return aucs, delongcov\n",
    "\n",
    "\n",
    "def calc_pvalue(aucs, sigma):\n",
    "    l = np.array([[1, -1]])\n",
    "    z = np.abs(np.diff(aucs)) / np.sqrt(np.dot(np.dot(l, sigma), l.T))\n",
    "    return np.log10(2) + scipy.stats.norm.logsf(z, loc=0, scale=1) / np.log(10)\n",
    "\n",
    "\n",
    "def compute_ground_truth_statistics(ground_truth, sample_weight=None):\n",
    "    assert np.array_equal(np.unique(ground_truth), [0, 1])\n",
    "    order = (-ground_truth).argsort()\n",
    "    label_1_count = int(ground_truth.sum())\n",
    "    if sample_weight is None:\n",
    "        ordered_sample_weight = None\n",
    "    else:\n",
    "        ordered_sample_weight = sample_weight[order]\n",
    "\n",
    "    return order, label_1_count, ordered_sample_weight\n",
    "\n",
    "\n",
    "def delong_roc_variance(ground_truth, predictions):\n",
    "    sample_weight = None\n",
    "    order, label_1_count, ordered_sample_weight = compute_ground_truth_statistics(\n",
    "        ground_truth, sample_weight)\n",
    "    predictions_sorted_transposed = predictions[np.newaxis, order]\n",
    "    aucs, delongcov = fastDeLong(predictions_sorted_transposed, label_1_count, ordered_sample_weight)\n",
    "    assert len(aucs) == 1, \"There is a bug in the code, please forward this to the developers\"\n",
    "    return aucs[0], delongcov\n",
    "\n",
    "\n",
    "def delong_roc_test(ground_truth, predictions_one, predictions_two):\n",
    "    sample_weight = None\n",
    "    order, label_1_count, ordered_sample_weight = compute_ground_truth_statistics(ground_truth)\n",
    "    predictions_sorted_transposed = np.vstack((np.asarray(predictions_one), np.asarray(predictions_two)))[:, order]\n",
    "    aucs, delongcov = fastDeLong(predictions_sorted_transposed, label_1_count, ordered_sample_weight)\n",
    "    return 10**calc_pvalue(aucs, delongcov)"
   ]
  },
  {
   "cell_type": "markdown",
   "metadata": {},
   "source": [
    "P-values for STS score and all features:"
   ]
  },
  {
   "cell_type": "code",
   "execution_count": 30,
   "metadata": {},
   "outputs": [
    {
     "data": {
      "text/plain": [
       "array([[1.76430312e-13]])"
      ]
     },
     "execution_count": 30,
     "metadata": {},
     "output_type": "execute_result"
    }
   ],
   "source": [
    "delong_roc_test(y, ravel(sts/100), probas_rf)"
   ]
  },
  {
   "cell_type": "code",
   "execution_count": 31,
   "metadata": {},
   "outputs": [
    {
     "data": {
      "text/plain": [
       "array([[1.8227864e-09]])"
      ]
     },
     "execution_count": 31,
     "metadata": {},
     "output_type": "execute_result"
    }
   ],
   "source": [
    "delong_roc_test(y, ravel(sts/100), probas_svm)"
   ]
  },
  {
   "cell_type": "code",
   "execution_count": 32,
   "metadata": {},
   "outputs": [
    {
     "data": {
      "text/plain": [
       "array([[7.55902876e-11]])"
      ]
     },
     "execution_count": 32,
     "metadata": {},
     "output_type": "execute_result"
    }
   ],
   "source": [
    "delong_roc_test(y, ravel(sts/100), probas_nn)"
   ]
  },
  {
   "cell_type": "markdown",
   "metadata": {},
   "source": [
    "P-values for STS score and baseline features:"
   ]
  },
  {
   "cell_type": "code",
   "execution_count": 33,
   "metadata": {},
   "outputs": [
    {
     "data": {
      "text/plain": [
       "array([[7.34342993e-05]])"
      ]
     },
     "execution_count": 33,
     "metadata": {},
     "output_type": "execute_result"
    }
   ],
   "source": [
    "delong_roc_test(y, ravel(sts/100), probas_rfb)"
   ]
  },
  {
   "cell_type": "code",
   "execution_count": 34,
   "metadata": {},
   "outputs": [
    {
     "data": {
      "text/plain": [
       "array([[0.00269182]])"
      ]
     },
     "execution_count": 34,
     "metadata": {},
     "output_type": "execute_result"
    }
   ],
   "source": [
    "delong_roc_test(y, ravel(sts/100), probas_svmb)"
   ]
  },
  {
   "cell_type": "code",
   "execution_count": 35,
   "metadata": {},
   "outputs": [
    {
     "data": {
      "text/plain": [
       "array([[0.23699763]])"
      ]
     },
     "execution_count": 35,
     "metadata": {},
     "output_type": "execute_result"
    }
   ],
   "source": [
    "delong_roc_test(y, ravel(sts/100), probas_nnb)"
   ]
  },
  {
   "cell_type": "markdown",
   "metadata": {},
   "source": [
    "P-values for STS2 score and all features:"
   ]
  },
  {
   "cell_type": "code",
   "execution_count": 36,
   "metadata": {},
   "outputs": [
    {
     "data": {
      "text/plain": [
       "array([[1.99874261e-13]])"
      ]
     },
     "execution_count": 36,
     "metadata": {},
     "output_type": "execute_result"
    }
   ],
   "source": [
    "delong_roc_test(y, ravel(sts_2/100), probas_rf)"
   ]
  },
  {
   "cell_type": "code",
   "execution_count": 37,
   "metadata": {},
   "outputs": [
    {
     "data": {
      "text/plain": [
       "array([[1.29544488e-08]])"
      ]
     },
     "execution_count": 37,
     "metadata": {},
     "output_type": "execute_result"
    }
   ],
   "source": [
    "delong_roc_test(y, ravel(sts_2/100), probas_svm)"
   ]
  },
  {
   "cell_type": "code",
   "execution_count": 38,
   "metadata": {},
   "outputs": [
    {
     "data": {
      "text/plain": [
       "array([[2.00321804e-10]])"
      ]
     },
     "execution_count": 38,
     "metadata": {},
     "output_type": "execute_result"
    }
   ],
   "source": [
    "delong_roc_test(y, ravel(sts_2/100), probas_nn)"
   ]
  },
  {
   "cell_type": "markdown",
   "metadata": {},
   "source": [
    "P-values for STS2 score and baseline features:"
   ]
  },
  {
   "cell_type": "code",
   "execution_count": 39,
   "metadata": {},
   "outputs": [
    {
     "data": {
      "text/plain": [
       "array([[0.00052598]])"
      ]
     },
     "execution_count": 39,
     "metadata": {},
     "output_type": "execute_result"
    }
   ],
   "source": [
    "delong_roc_test(y, ravel(sts_2/100), probas_rfb)"
   ]
  },
  {
   "cell_type": "code",
   "execution_count": 40,
   "metadata": {},
   "outputs": [
    {
     "data": {
      "text/plain": [
       "array([[0.00460866]])"
      ]
     },
     "execution_count": 40,
     "metadata": {},
     "output_type": "execute_result"
    }
   ],
   "source": [
    "delong_roc_test(y, ravel(sts_2/100), probas_svmb)"
   ]
  },
  {
   "cell_type": "code",
   "execution_count": 41,
   "metadata": {},
   "outputs": [
    {
     "data": {
      "text/plain": [
       "array([[0.34764519]])"
      ]
     },
     "execution_count": 41,
     "metadata": {},
     "output_type": "execute_result"
    }
   ],
   "source": [
    "delong_roc_test(y, ravel(sts_2/100), probas_nnb)"
   ]
  },
  {
   "cell_type": "markdown",
   "metadata": {},
   "source": [
    "P-values within ML methods:"
   ]
  },
  {
   "cell_type": "code",
   "execution_count": 42,
   "metadata": {},
   "outputs": [
    {
     "data": {
      "text/plain": [
       "array([[0.0001615]])"
      ]
     },
     "execution_count": 42,
     "metadata": {},
     "output_type": "execute_result"
    }
   ],
   "source": [
    "delong_roc_test(y, probas_rf, probas_rfb)"
   ]
  },
  {
   "cell_type": "code",
   "execution_count": 43,
   "metadata": {},
   "outputs": [
    {
     "data": {
      "text/plain": [
       "array([[0.00963132]])"
      ]
     },
     "execution_count": 43,
     "metadata": {},
     "output_type": "execute_result"
    }
   ],
   "source": [
    "delong_roc_test(y, probas_svm, probas_svmb)"
   ]
  },
  {
   "cell_type": "code",
   "execution_count": 44,
   "metadata": {},
   "outputs": [
    {
     "data": {
      "text/plain": [
       "array([[5.04230179e-07]])"
      ]
     },
     "execution_count": 44,
     "metadata": {},
     "output_type": "execute_result"
    }
   ],
   "source": [
    "delong_roc_test(y, probas_nn, probas_nnb)"
   ]
  }
 ],
 "metadata": {
  "kernelspec": {
   "display_name": "Python 3",
   "language": "python",
   "name": "python3"
  },
  "language_info": {
   "codemirror_mode": {
    "name": "ipython",
    "version": 3
   },
   "file_extension": ".py",
   "mimetype": "text/x-python",
   "name": "python",
   "nbconvert_exporter": "python",
   "pygments_lexer": "ipython3",
   "version": "3.7.6"
  }
 },
 "nbformat": 4,
 "nbformat_minor": 2
}
