{
 "cells": [
  {
   "cell_type": "code",
   "execution_count": 3,
   "metadata": {},
   "outputs": [],
   "source": [
    "import numpy as np\n",
    "import pandas as pd\n",
    "import sklearn\n",
    "\n",
    "from scipy import interp\n",
    "import matplotlib.pyplot as plt\n",
    "from numpy import ravel\n",
    "\n",
    "from sklearn import svm, datasets\n",
    "from sklearn.metrics import roc_curve, auc, roc_auc_score\n",
    "from sklearn.model_selection import StratifiedKFold\n",
    "\n",
    "from sklearn.model_selection import GridSearchCV, cross_val_score, KFold\n",
    "from sklearn.preprocessing import StandardScaler\n",
    "from sklearn.impute import SimpleImputer\n",
    "\n",
    "from sklearn.neural_network import MLPClassifier\n",
    "import itertools\n",
    "\n",
    "import sklearn.metrics as metrics\n",
    "\n",
    "import matplotlib.pyplot as plt\n",
    "\n",
    "import random\n",
    "\n",
    "import scipy\n",
    "\n",
    "from sklearn.preprocessing import StandardScaler  \n",
    "\n",
    "\n",
    "# Set seed\n",
    "random.seed(2020)\n",
    "np.random.seed(2020)"
   ]
  },
  {
   "cell_type": "code",
   "execution_count": 4,
   "metadata": {},
   "outputs": [
    {
     "name": "stdout",
     "output_type": "stream",
     "text": [
      "(451, 87)\n",
      "(451,)\n",
      "(451, 83)\n"
     ]
    }
   ],
   "source": [
    "A = pd.read_excel(\"C:/Users/arman/Desktop/Tables/mortality_all.xlsx\")\n",
    "print(A.shape)\n",
    "\n",
    "y = A[\"Mortality\"]\n",
    "y = y.ravel()\n",
    "print(y.shape)\n",
    "\n",
    "\n",
    "sts = A[\"STS\"]\n",
    "sts = np.array(sts, dtype = float)\n",
    "\n",
    "sts_2 = A[\"STSACC\"]\n",
    "sts_2 = np.array(sts_2, dtype = float)\n",
    "\n",
    "X = A\n",
    "del X[\"Mortality\"]\n",
    "del X[\"ID\"]\n",
    "del X[\"STS\"]\n",
    "del X[\"STSACC\"]\n",
    "X = np.array(X, dtype = float)\n",
    "print(X.shape)"
   ]
  },
  {
   "cell_type": "code",
   "execution_count": 5,
   "metadata": {},
   "outputs": [],
   "source": [
    "imp = SimpleImputer(missing_values=np.nan, strategy='mean')\n",
    "X = imp.fit_transform(X)\n",
    "X = pd.DataFrame(data = X) # Create data frame\n",
    "\n",
    "feature_scaler = StandardScaler()  \n",
    "X = feature_scaler.fit_transform(X)"
   ]
  },
  {
   "cell_type": "code",
   "execution_count": 6,
   "metadata": {},
   "outputs": [],
   "source": [
    "import xgboost\n",
    "from xgboost import XGBClassifier\n",
    "from xgboost import plot_importance\n",
    "from matplotlib import pyplot\n",
    "import numpy as np"
   ]
  },
  {
   "cell_type": "code",
   "execution_count": 7,
   "metadata": {},
   "outputs": [
    {
     "data": {
      "text/plain": [
       "XGBClassifier(base_score=0.5, booster='gbtree', colsample_bylevel=1,\n",
       "       colsample_bynode=1, colsample_bytree=1, gamma=0, learning_rate=0.1,\n",
       "       max_delta_step=0, max_depth=3, min_child_weight=1, missing=None,\n",
       "       n_estimators=100, n_jobs=1, nthread=None,\n",
       "       objective='binary:logistic', random_state=0, reg_alpha=0,\n",
       "       reg_lambda=1, scale_pos_weight=17, seed=None, silent=None,\n",
       "       subsample=1, verbosity=1)"
      ]
     },
     "execution_count": 7,
     "metadata": {},
     "output_type": "execute_result"
    }
   ],
   "source": [
    "model = XGBClassifier(scale_pos_weight=17)\n",
    "model.fit(X, y)"
   ]
  },
  {
   "cell_type": "code",
   "execution_count": 8,
   "metadata": {},
   "outputs": [
    {
     "data": {
      "image/png": "[encoded data removed]",
      "text/plain": [
       "<Figure size 432x288 with 1 Axes>"
      ]
     },
     "metadata": {
      "needs_background": "light"
     },
     "output_type": "display_data"
    }
   ],
   "source": [
    "plot_importance(model)\n",
    "pyplot.show()\n"
   ]
  },
  {
   "cell_type": "code",
   "execution_count": 10,
   "metadata": {},
   "outputs": [
    {
     "name": "stdout",
     "output_type": "stream",
     "text": [
      "[16 62 33 66 35 57 50 63 77 76 48 37 81 72 79 31 82 36 78 61 38 69 39 21\n",
      " 24 65 27 45 17 58 29 40 80 47 20 44 64 71 67  5  2 75 34 28  4  1 11 43\n",
      " 14 25 32 10 13 60 15 49  3  6 12  7  8  9 18 41 19 54 74 73 70 68 59 56\n",
      " 55 53 22 52 51 46 42 30 26 23  0]\n",
      "['pre_hstnt_value', 0.09650911]\n",
      "['MaxLeu', 0.09460853]\n",
      "['Septum', 0.067317896]\n",
      "['MaxCrea', 0.042272255]\n",
      "['LA', 0.04157843]\n",
      "['Fever', 0.040745836]\n",
      "['Perikarderguss', 0.03778614]\n",
      "['MaxCRP', 0.03689984]\n",
      "['Fluoroscopy.time', 0.036408376]\n",
      "['Contrast.agent.use', 0.03493915]\n"
     ]
    }
   ],
   "source": [
    "X = pd.read_excel(\"C:/Users/arman/Desktop/Tables/mortality_all.xlsx\")\n",
    "del X[\"Mortality\"]\n",
    "del X[\"ID\"]\n",
    "del X[\"STS\"]\n",
    "del X[\"STSACC\"]\n",
    "\n",
    "sorted_idx = np.argsort(model.feature_importances_)[::-1]\n",
    "print(sorted_idx)\n",
    "for index in sorted_idx[0:10]:\n",
    "    print([X.columns[index], model.feature_importances_[index]]) "
   ]
  },
  {
   "cell_type": "code",
   "execution_count": 8,
   "metadata": {},
   "outputs": [],
   "source": [
    "X1 = pd.read_excel(\"C:/Users/arman/Desktop/Tables/Baseline August (30 features + ID).xlsx\")\n",
    "del X1[\"ID\"]\n",
    "feature_names = np.array(X1.columns.values)\n",
    "X1 = np.array(X1, dtype = float)\n",
    "X1 = imp.fit_transform(X1)\n",
    "X1 = pd.DataFrame(data = X1) # Create data frame\n",
    "X1 = feature_scaler.fit_transform(X1)"
   ]
  },
  {
   "cell_type": "code",
   "execution_count": 9,
   "metadata": {},
   "outputs": [
    {
     "data": {
      "text/plain": [
       "XGBClassifier(base_score=0.5, booster=None, colsample_bylevel=1,\n",
       "              colsample_bynode=1, colsample_bytree=1, gamma=0, gpu_id=-1,\n",
       "              importance_type='gain', interaction_constraints=None,\n",
       "              learning_rate=0.300000012, max_delta_step=0, max_depth=6,\n",
       "              min_child_weight=1, missing=nan, monotone_constraints=None,\n",
       "              n_estimators=100, n_jobs=0, num_parallel_tree=1,\n",
       "              objective='binary:logistic', random_state=0, reg_alpha=0,\n",
       "              reg_lambda=1, scale_pos_weight=17, subsample=1, tree_method=None,\n",
       "              validate_parameters=False, verbosity=None)"
      ]
     },
     "execution_count": 9,
     "metadata": {},
     "output_type": "execute_result"
    }
   ],
   "source": [
    "# use feature importance for feature selection\n",
    "from numpy import sort\n",
    "from xgboost import XGBClassifier\n",
    "from sklearn.model_selection import train_test_split\n",
    "from sklearn.metrics import accuracy_score\n",
    "from sklearn.feature_selection import SelectFromModel\n",
    "# split data into train and test sets\n",
    "X_train, X_test, y_train, y_test = train_test_split(X1, y, test_size=0.33, random_state=7)\n",
    "# fit model on all training data\n",
    "model = XGBClassifier(scale_pos_weight=17)\n",
    "model.fit(X_train, y_train)\n"
   ]
  },
  {
   "cell_type": "code",
   "execution_count": 10,
   "metadata": {},
   "outputs": [
    {
     "name": "stdout",
     "output_type": "stream",
     "text": [
      "[39 29  0 14 16 27 17 47 33 25 20 28  8 34 32 40 31  2 45 21 38 24 13  5\n",
      " 43 19 46  4  3 30 35 10 41  9 36 37 26 15 49 23 44 42 12 11 18  7  6 22\n",
      " 48  1]\n",
      "['TAPSE', 0.17151733]\n",
      "['RCA_Ao', 0.134166]\n",
      "['ValveType', 0.10390436]\n",
      "['CRP', 0.064180054]\n",
      "['pre_hstnt_value', 0.06411412]\n",
      "['Grad der Verlaklung', 0.041515816]\n",
      "['pre_krea_value', 0.03629989]\n",
      "['E_E', 0.035495892]\n",
      "['Septum', 0.033663996]\n",
      "['Minimale Durchmesser', 0.03050367]\n"
     ]
    }
   ],
   "source": [
    "X1 = pd.read_excel(\"Baseline August (30 features + ID).xlsx\")\n",
    "del X1[\"ID\"]\n",
    "sorted_idx = np.argsort(model.feature_importances_)[::-1]\n",
    "print(sorted_idx)\n",
    "for index in sorted_idx[0:10]:\n",
    "    print([X1.columns[index], model.feature_importances_[index]]) "
   ]
  },
  {
   "cell_type": "code",
   "execution_count": 11,
   "metadata": {},
   "outputs": [
    {
     "data": {
      "image/png": "[encoded data removed]",
      "text/plain": [
       "<Figure size 432x288 with 1 Axes>"
      ]
     },
     "metadata": {
      "needs_background": "light"
     },
     "output_type": "display_data"
    }
   ],
   "source": [
    "plot_importance(model)\n",
    "pyplot.show()"
   ]
  },
  {
   "cell_type": "code",
   "execution_count": null,
   "metadata": {},
   "outputs": [],
   "source": []
  }
 ],
 "metadata": {
  "kernelspec": {
   "display_name": "Python 3",
   "language": "python",
   "name": "python3"
  },
  "language_info": {
   "codemirror_mode": {
    "name": "ipython",
    "version": 3
   },
   "file_extension": ".py",
   "mimetype": "text/x-python",
   "name": "python",
   "nbconvert_exporter": "python",
   "pygments_lexer": "ipython3",
   "version": "3.6.7"
  }
 },
 "nbformat": 4,
 "nbformat_minor": 2
}
