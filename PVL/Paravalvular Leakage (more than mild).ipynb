{
 "cells": [
  {
   "cell_type": "code",
   "execution_count": 1,
   "metadata": {},
   "outputs": [],
   "source": [
    "import numpy as np\n",
    "import pandas as pd\n",
    "import sklearn\n",
    "\n",
    "from scipy import interp\n",
    "import matplotlib.pyplot as plt\n",
    "from numpy import ravel\n",
    "\n",
    "from sklearn import svm, datasets\n",
    "from sklearn.metrics import roc_curve, auc, roc_auc_score\n",
    "from sklearn.model_selection import StratifiedKFold\n",
    "\n",
    "from sklearn.model_selection import GridSearchCV, cross_val_score, KFold\n",
    "from sklearn.preprocessing import StandardScaler\n",
    "from sklearn.impute import SimpleImputer\n",
    "\n",
    "from sklearn.neural_network import MLPClassifier\n",
    "import itertools\n",
    "\n",
    "import sklearn.metrics as metrics\n",
    "\n",
    "import matplotlib.pyplot as plt\n",
    "\n",
    "import random\n",
    "\n",
    "import scipy\n",
    "\n",
    "from sklearn.preprocessing import StandardScaler  \n",
    "\n",
    "\n",
    "# Set seed\n",
    "random.seed(2020)\n",
    "np.random.seed(2020)"
   ]
  },
  {
   "cell_type": "code",
   "execution_count": 2,
   "metadata": {},
   "outputs": [],
   "source": [
    "from math import sqrt\n",
    "\n",
    "def wilson_ci( pi, n, alpha ):\n",
    "  a = 2 * n * pi + scipy.stats.norm.ppf(1 - alpha/2)**2\n",
    "  b = scipy.stats.norm.ppf(1 - alpha/2) * sqrt(scipy.stats.norm.ppf(1 - alpha/2)**2 + 4 * n * pi * (1 - pi))\n",
    "  d = 2 * (n + scipy.stats.norm.ppf(1 - alpha/2)**2)\n",
    "  \n",
    "  res  = round((a - b)/d, 3)\n",
    "  res2 = round((a + b) / d, 3)\n",
    "  \n",
    "  return [res, res2]"
   ]
  },
  {
   "cell_type": "code",
   "execution_count": 3,
   "metadata": {},
   "outputs": [
    {
     "name": "stdout",
     "output_type": "stream",
     "text": [
      "(451, 60)\n",
      "(451, 60)\n",
      "(451,)\n",
      "(451, 58)\n"
     ]
    }
   ],
   "source": [
    "A = pd.read_excel(\"ai_all.xlsx\")\n",
    "print(A.shape)\n",
    "\n",
    "print(A.shape)\n",
    "\n",
    "y = A[\"MorethanTraceAI\"]\n",
    "y = y.ravel()\n",
    "print(y.shape)\n",
    "\n",
    "X = A\n",
    "del X[\"MorethanTraceAI\"]\n",
    "del X[\"ID\"]\n",
    "X = np.array(X, dtype = float)\n",
    "print(X.shape)"
   ]
  },
  {
   "cell_type": "code",
   "execution_count": 4,
   "metadata": {},
   "outputs": [],
   "source": [
    "imp = SimpleImputer(missing_values=np.nan, strategy='mean')\n",
    "X = imp.fit_transform(X)\n",
    "X = pd.DataFrame(data = X) # Create data frame\n",
    "\n",
    "feature_scaler = StandardScaler()  \n",
    "X = feature_scaler.fit_transform(X)"
   ]
  },
  {
   "cell_type": "code",
   "execution_count": 5,
   "metadata": {},
   "outputs": [
    {
     "name": "stdout",
     "output_type": "stream",
     "text": [
      "(451, 50)\n"
     ]
    }
   ],
   "source": [
    "X1 = pd.read_excel(\"Baseline August (30 features + ID).xlsx\")\n",
    "del X1[\"ID\"]\n",
    "X1 = np.array(X1, dtype = float)\n",
    "X1 = imp.fit_transform(X1)\n",
    "X1 = pd.DataFrame(data = X1) # Create data frame\n",
    "X1 = feature_scaler.fit_transform(X1)  \n",
    "print(X1.shape)"
   ]
  },
  {
   "cell_type": "code",
   "execution_count": 6,
   "metadata": {},
   "outputs": [],
   "source": [
    "spez = 0.9\n",
    "pos = len(y[np.where(y==1)])\n",
    "neg = len(y) - pos"
   ]
  },
  {
   "cell_type": "code",
   "execution_count": 7,
   "metadata": {},
   "outputs": [],
   "source": [
    "inner_cv = KFold(n_splits=4, shuffle=True, random_state=4)"
   ]
  },
  {
   "cell_type": "code",
   "execution_count": 8,
   "metadata": {},
   "outputs": [],
   "source": [
    "outer_cv = StratifiedKFold(n_splits = 5, shuffle = True, random_state=4)\n",
    "cv = outer_cv"
   ]
  },
  {
   "cell_type": "code",
   "execution_count": 9,
   "metadata": {},
   "outputs": [],
   "source": [
    "from sklearn.ensemble import RandomForestClassifier\n",
    "rfc = RandomForestClassifier(n_jobs=-1,max_features= 'sqrt' ,n_estimators=50, oob_score = True) \n",
    "\n",
    "grid_param_rf = {\n",
    "    'n_estimators': [200, 700],\n",
    "    'max_features': ['auto', 'sqrt', 'log2']\n",
    "}\n",
    "\n",
    "classifier_rf = GridSearchCV(estimator=rfc, param_grid=grid_param_rf, cv=inner_cv, scoring='roc_auc')"
   ]
  },
  {
   "cell_type": "code",
   "execution_count": 10,
   "metadata": {},
   "outputs": [],
   "source": [
    "probas_rf  = ravel(np.zeros(len(y)))\n",
    "probas_rfb = ravel(np.zeros(len(y)))\n",
    "\n",
    "for train, test in cv.split(X, y):\n",
    "    fit = classifier_rf.fit(X[train], y[train])\n",
    "    probs = fit.predict_proba(X[test])\n",
    "    probas_rf[test] = probs[:, 1]\n",
    "    fit   = classifier_rf.fit(X1[train], y[train])\n",
    "    probs = fit.predict_proba(X1[test])\n",
    "    probas_rfb[test] = probs[:, 1]\n",
    "\n",
    "    \n",
    "fpr_rf, tpr_rf, thresholds_rf = roc_curve(y, probas_rf)\n",
    "auc_rf = auc(fpr_rf, tpr_rf)\n",
    "\n",
    "fpr_rfb, tpr_rfb, thresholds_rfb = roc_curve(y, probas_rfb)\n",
    "auc_rfb = auc(fpr_rfb, tpr_rfb)"
   ]
  },
  {
   "cell_type": "code",
   "execution_count": 11,
   "metadata": {},
   "outputs": [
    {
     "data": {
      "image/png": "[encoded data removed]",
      "text/plain": [
       "<Figure size 432x288 with 1 Axes>"
      ]
     },
     "metadata": {
      "needs_background": "light"
     },
     "output_type": "display_data"
    }
   ],
   "source": [
    "plt.plot(fpr_rf, tpr_rf, lw=3, alpha=1, color='forestgreen',\n",
    "         label='All Features (AUC = %0.2f)' % auc_rf)\n",
    "plt.plot(fpr_rfb, tpr_rfb, lw=3, alpha=1, color='lime',\n",
    "         label='Baseline Features (AUC = %0.2f)' % auc_rfb)\n",
    "plt.plot([0, 1], [0, 1], linestyle='--', lw=2, color='grey',\n",
    "         alpha=.8)\n",
    "\n",
    "# Define limits and labels\n",
    "plt.xlim([-0.05, 1.05])\n",
    "plt.ylim([-0.05, 1.05])\n",
    "plt.xlabel('1 - Specificity')\n",
    "plt.ylabel('Sensitivity')\n",
    "plt.title('Receiver operating characteristic')\n",
    "plt.legend(loc=\"lower right\")\n",
    "plt.title(\"Random Forest\")\n",
    "plt.show()"
   ]
  },
  {
   "cell_type": "code",
   "execution_count": 12,
   "metadata": {},
   "outputs": [
    {
     "name": "stdout",
     "output_type": "stream",
     "text": [
      "AUC: 0.5687658342381469\n",
      "Confidence Interval: [0.523, 0.614]\n",
      "Accuracy: 0.6503325942350333\n",
      "Sensitivity: 0.11805555555555555\n",
      "Specificity: 0.9\n"
     ]
    }
   ],
   "source": [
    "sens_rf = tpr_rf[np.argmin(fpr_rf < 1 - spez)]\n",
    "acc_rf  = (sens_rf * pos + spez * neg) / len(y)\n",
    "print('AUC:', auc_rf)\n",
    "print('Confidence Interval:', wilson_ci (auc_rf, len(y), 0.05))\n",
    "print('Accuracy:', acc_rf)\n",
    "print('Sensitivity:', sens_rf)\n",
    "print('Specificity:', spez)"
   ]
  },
  {
   "cell_type": "code",
   "execution_count": 13,
   "metadata": {},
   "outputs": [
    {
     "name": "stdout",
     "output_type": "stream",
     "text": [
      "AUC: 0.57470367354325\n",
      "Confidence Interval: [0.529, 0.62]\n",
      "Accuracy: 0.6569844789356984\n",
      "Sensitivity: 0.1388888888888889\n",
      "Specificity: 0.9\n"
     ]
    }
   ],
   "source": [
    "sens_rfb = tpr_rfb[np.argmin(fpr_rfb < 1 - spez)]\n",
    "acc_rfb  = (sens_rfb * pos + spez * neg) / len(y)\n",
    "print('AUC:', auc_rfb)\n",
    "print('Confidence Interval:', wilson_ci (auc_rfb, len(y), 0.05))\n",
    "print('Accuracy:', acc_rfb)\n",
    "print('Sensitivity:', sens_rfb)\n",
    "print('Specificity:', spez)"
   ]
  },
  {
   "cell_type": "code",
   "execution_count": 14,
   "metadata": {},
   "outputs": [],
   "source": [
    "NeuralNetwork = MLPClassifier(solver='sgd', alpha=1e-5, max_iter = 10000,\n",
    "                    hidden_layer_sizes=(5, 2), random_state=1)\n",
    "grid_param_nn = {  \n",
    "    'activation': ['logistic','tanh','relu'],\n",
    "    'learning_rate': ['constant','invscaling'],\n",
    "    'hidden_layer_sizes':[x for x in itertools.product((3,4,5),repeat=3)]\n",
    "}\n",
    "\n",
    "classifier_nn = GridSearchCV(estimator=NeuralNetwork, param_grid=grid_param_nn, cv=inner_cv, scoring='roc_auc')"
   ]
  },
  {
   "cell_type": "code",
   "execution_count": 15,
   "metadata": {},
   "outputs": [],
   "source": [
    "probas_nn  = ravel(np.zeros(len(y)))\n",
    "probas_nnb = ravel(np.zeros(len(y)))\n",
    "\n",
    "for train, test in cv.split(X, y):\n",
    "    fit = classifier_nn.fit(X[train], y[train])\n",
    "    probs = fit.predict_proba(X[test])\n",
    "    probas_nn[test] = probs[:, 1]\n",
    "    fit = classifier_nn.fit(X1[train], y[train])\n",
    "    probs = fit.predict_proba(X1[test])\n",
    "    probas_nnb[test] = probs[:, 1]\n",
    "\n",
    "    \n",
    "fpr_nn, tpr_nn, thresholds_nn = roc_curve(y, probas_nn)\n",
    "auc_nn = auc(fpr_nn, tpr_nn)\n",
    "\n",
    "fpr_nnb, tpr_nnb, thresholds_nnb = roc_curve(y, probas_nnb)\n",
    "auc_nnb = auc(fpr_nnb, tpr_nnb)"
   ]
  },
  {
   "cell_type": "code",
   "execution_count": 16,
   "metadata": {},
   "outputs": [
    {
     "data": {
      "image/png": "[encoded data removed]",
      "text/plain": [
       "<Figure size 432x288 with 1 Axes>"
      ]
     },
     "metadata": {
      "needs_background": "light"
     },
     "output_type": "display_data"
    }
   ],
   "source": [
    "plt.plot(fpr_nn, tpr_nn, lw=3, alpha=1, color='darkcyan',\n",
    "         label='All Features (AUC = %0.2f)' % auc_nn)\n",
    "plt.plot(fpr_nnb, tpr_nnb, lw=3, alpha=1, color='turquoise',\n",
    "         label='Baseline Features (AUC = %0.2f)' % auc_nnb)\n",
    "plt.plot([0, 1], [0, 1], linestyle='--', lw=2, color='grey',\n",
    "         alpha=.8)\n",
    "\n",
    "# Define limits and labels\n",
    "plt.xlim([-0.05, 1.05])\n",
    "plt.ylim([-0.05, 1.05])\n",
    "plt.xlabel('1 - Specificity')\n",
    "plt.ylabel('Sensitivity')\n",
    "plt.title('Receiver operating characteristic')\n",
    "plt.legend(loc=\"lower right\")\n",
    "plt.title(\"Artificial Neural Network\")\n",
    "plt.show()\n"
   ]
  },
  {
   "cell_type": "code",
   "execution_count": 17,
   "metadata": {},
   "outputs": [
    {
     "name": "stdout",
     "output_type": "stream",
     "text": [
      "AUC: 0.5021036916395223\n",
      "Confidence Interval: [0.456, 0.548]\n",
      "Accuracy: 0.6503325942350333\n",
      "Sensitivity: 0.11805555555555555\n",
      "Specificity: 0.9\n"
     ]
    }
   ],
   "source": [
    "sens_nn = tpr_nn[np.argmin(fpr_nn < 1 - spez)]\n",
    "acc_nn  = (sens_nn * pos + spez * neg) / len(y)\n",
    "print('AUC:', auc_nn)\n",
    "print('Confidence Interval:', wilson_ci (auc_nn, len(y), 0.05))\n",
    "print('Accuracy:', acc_nn)\n",
    "print('Sensitivity:', sens_nn)\n",
    "print('Specificity:', spez)"
   ]
  },
  {
   "cell_type": "code",
   "execution_count": 18,
   "metadata": {},
   "outputs": [
    {
     "name": "stdout",
     "output_type": "stream",
     "text": [
      "AUC: 0.5064241766196164\n",
      "Confidence Interval: [0.46, 0.552]\n",
      "Accuracy: 0.661419068736142\n",
      "Sensitivity: 0.1527777777777778\n",
      "Specificity: 0.9\n"
     ]
    }
   ],
   "source": [
    "sens_nnb = tpr_nnb[np.argmin(fpr_nnb < 1 - spez)]\n",
    "acc_nnb  = (sens_nnb * pos + spez * neg) / len(y)\n",
    "print('AUC:', auc_nnb)\n",
    "print('Confidence Interval:', wilson_ci (auc_nnb, len(y), 0.05))\n",
    "print('Accuracy:', acc_nnb)\n",
    "print('Sensitivity:', sens_nnb)\n",
    "print('Specificity:', spez)"
   ]
  },
  {
   "cell_type": "code",
   "execution_count": 19,
   "metadata": {},
   "outputs": [],
   "source": [
    "from sklearn import svm, datasets\n",
    "svc = svm.SVC(probability = True)\n",
    "\n",
    "grid_param_svm = {'kernel':('linear', 'rbf'), 'C':[1, 10], 'gamma':[.0001, .001, .01]}\n",
    "\n",
    "classifier_svm = GridSearchCV(estimator=svc, param_grid=grid_param_svm, cv=inner_cv, scoring='roc_auc')"
   ]
  },
  {
   "cell_type": "code",
   "execution_count": 20,
   "metadata": {},
   "outputs": [],
   "source": [
    "probas_svm  = ravel(np.zeros(len(y)))\n",
    "probas_svmb = ravel(np.zeros(len(y)))\n",
    "\n",
    "for train, test in cv.split(X, y):\n",
    "    fit = classifier_svm.fit(X[train], y[train])\n",
    "    probs = fit.predict_proba(X[test])\n",
    "    probas_svm[test] = probs[:, 1]\n",
    "    fit = classifier_svm.fit(X1[train], y[train])\n",
    "    probs = fit.predict_proba(X1[test])\n",
    "    probas_svmb[test] = probs[:, 1]\n",
    "\n",
    "    \n",
    "fpr_svm, tpr_svm, thresholds_svm = roc_curve(y, probas_svm)\n",
    "auc_svm = auc(fpr_svm, tpr_svm)\n",
    "\n",
    "fpr_svmb, tpr_svmb, thresholds_svmb = roc_curve(y, probas_svmb)\n",
    "auc_svmb = auc(fpr_svmb, tpr_svmb)"
   ]
  },
  {
   "cell_type": "code",
   "execution_count": 21,
   "metadata": {},
   "outputs": [
    {
     "data": {
      "image/png": "[encoded data removed]",
      "text/plain": [
       "<Figure size 432x288 with 1 Axes>"
      ]
     },
     "metadata": {
      "needs_background": "light"
     },
     "output_type": "display_data"
    }
   ],
   "source": [
    "plt.plot(fpr_svm, tpr_svm, lw=3, alpha=1, color='darkorange',\n",
    "         label='All Features (AUC = %0.2f)' % auc_svm)\n",
    "plt.plot(fpr_svmb, tpr_svmb, lw=3, alpha=1, color='moccasin',\n",
    "         label='Baseline Features (AUC = %0.2f)' % auc_svmb)\n",
    "plt.plot([0, 1], [0, 1], linestyle='--', lw=2, color='grey',\n",
    "         alpha=.8)\n",
    "\n",
    "# Define limits and labels\n",
    "plt.xlim([-0.05, 1.05])\n",
    "plt.ylim([-0.05, 1.05])\n",
    "plt.xlabel('1 - Specificity')\n",
    "plt.ylabel('Sensitivity')\n",
    "plt.title('Receiver operating characteristic')\n",
    "plt.legend(loc=\"lower right\")\n",
    "plt.title(\"Support Vector Machine\")\n",
    "plt.show()"
   ]
  },
  {
   "cell_type": "code",
   "execution_count": 22,
   "metadata": {},
   "outputs": [
    {
     "name": "stdout",
     "output_type": "stream",
     "text": [
      "AUC: 0.4759545783568585\n",
      "Confidence Interval: [0.43, 0.522]\n",
      "Accuracy: 0.6436807095343681\n",
      "Sensitivity: 0.09722222222222222\n",
      "Specificity: 0.9\n"
     ]
    }
   ],
   "source": [
    "sens_svm = tpr_svm[np.argmin(fpr_svm < 1 - spez)]\n",
    "acc_svm  = (sens_svm * pos + spez * neg) / len(y)\n",
    "print('AUC:', auc_svm)\n",
    "print('Confidence Interval:', wilson_ci (auc_svm, len(y), 0.05))\n",
    "print('Accuracy:', acc_svm)\n",
    "print('Sensitivity:', sens_svm)\n",
    "print('Specificity:', spez)"
   ]
  },
  {
   "cell_type": "code",
   "execution_count": 23,
   "metadata": {},
   "outputs": [
    {
     "name": "stdout",
     "output_type": "stream",
     "text": [
      "AUC: 0.5063789359391966\n",
      "Confidence Interval: [0.46, 0.552]\n",
      "Accuracy: 0.6392461197339246\n",
      "Sensitivity: 0.08333333333333333\n",
      "Specificity: 0.9\n"
     ]
    }
   ],
   "source": [
    "sens_svmb = tpr_svmb[np.argmin(fpr_svmb < 1 - spez)]\n",
    "acc_svmb  = (sens_svmb * pos + spez * neg) / len(y)\n",
    "print('AUC:', auc_svmb)\n",
    "print('Confidence Interval:', wilson_ci (auc_svmb, len(y), 0.05))\n",
    "print('Accuracy:', acc_svmb)\n",
    "print('Sensitivity:', sens_svmb)\n",
    "print('Specificity:', spez)"
   ]
  },
  {
   "cell_type": "code",
   "execution_count": null,
   "metadata": {},
   "outputs": [],
   "source": []
  }
 ],
 "metadata": {
  "kernelspec": {
   "display_name": "Python 3",
   "language": "python",
   "name": "python3"
  },
  "language_info": {
   "codemirror_mode": {
    "name": "ipython",
    "version": 3
   },
   "file_extension": ".py",
   "mimetype": "text/x-python",
   "name": "python",
   "nbconvert_exporter": "python",
   "pygments_lexer": "ipython3",
   "version": "3.7.6"
  }
 },
 "nbformat": 4,
 "nbformat_minor": 2
}
